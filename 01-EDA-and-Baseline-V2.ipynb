{
 "cells": [
  {
   "cell_type": "markdown",
   "id": "83b33e9d",
   "metadata": {},
   "source": [
    "# Part 1: Setup, EDA, and Baseline Validation\n",
    "This section is for exploring the data and validating our modeling approach. We will:\n",
    "1. Load the libraries and data.\n",
    "2. Perform Exploratory Data Analysis (EDA) to understand the dataset.\n",
    "3. Build a baseline model on a *split* of the training data to get a reliable local validation score."
   ]
  },
  {
   "cell_type": "markdown",
   "id": "a197c40e",
   "metadata": {},
   "source": [
    "### 1.1 - Setup and Data Loading"
   ]
  },
  {
   "cell_type": "code",
   "execution_count": 2,
   "id": "3efdf60a",
   "metadata": {},
   "outputs": [],
   "source": [
    "# Import standard libraries\n",
    "import pandas as pd\n",
    "import numpy as np\n",
    "import matplotlib.pyplot as plt\n",
    "import seaborn as sns\n",
    "from sklearn.model_selection import train_test_split\n",
    "from sklearn.feature_extraction.text import TfidfVectorizer\n",
    "from sklearn.linear_model import LogisticRegression\n",
    "from sklearn.metrics import roc_auc_score\n",
    "\n",
    "# Set a style for all our plots\n",
    "sns.set_style(\"whitegrid\")"
   ]
  },
  {
   "cell_type": "code",
   "execution_count": 3,
   "id": "2e50e255",
   "metadata": {},
   "outputs": [],
   "source": [
    "# Load the datasets\n",
    "df = pd.read_csv(\"train.csv\")\n",
    "test_df = pd.read_csv(\"test.csv\")\n",
    "sample_submission = pd.read_csv(\"sample_submission.csv\")"
   ]
  },
  {
   "cell_type": "markdown",
   "id": "5b0dd75c",
   "metadata": {},
   "source": [
    "### 1.2 - Exploratory Data Analysis (EDA)"
   ]
  },
  {
   "cell_type": "code",
   "execution_count": 4,
   "id": "3260eebf",
   "metadata": {},
   "outputs": [
    {
     "name": "stdout",
     "output_type": "stream",
     "text": [
      "<class 'pandas.core.frame.DataFrame'>\n",
      "RangeIndex: 2029 entries, 0 to 2028\n",
      "Data columns (total 10 columns):\n",
      " #   Column              Non-Null Count  Dtype \n",
      "---  ------              --------------  ----- \n",
      " 0   row_id              2029 non-null   int64 \n",
      " 1   body                2029 non-null   object\n",
      " 2   rule                2029 non-null   object\n",
      " 3   subreddit           2029 non-null   object\n",
      " 4   positive_example_1  2029 non-null   object\n",
      " 5   positive_example_2  2029 non-null   object\n",
      " 6   negative_example_1  2029 non-null   object\n",
      " 7   negative_example_2  2029 non-null   object\n",
      " 8   rule_violation      2029 non-null   int64 \n",
      " 9   combined_text       2029 non-null   object\n",
      "dtypes: int64(2), object(8)\n",
      "memory usage: 158.6+ KB\n"
     ]
    }
   ],
   "source": [
    "# Create the 'combined_text' feature for analysis and modeling\n",
    "# This gives the model context about both the rule and the comment body\n",
    "df['combined_text'] = df['rule'] + \" [SEP] \" + df['body']\n",
    "test_df['combined_text'] = test_df['rule'] + \" [SEP] \" + test_df['body']\n",
    "\n",
    "df.info()"
   ]
  },
  {
   "cell_type": "code",
   "execution_count": 5,
   "id": "aea365cb",
   "metadata": {},
   "outputs": [
    {
     "name": "stdout",
     "output_type": "stream",
     "text": [
      "Target Distribution:\n",
      " rule_violation\n",
      "1    0.508132\n",
      "0    0.491868\n",
      "Name: proportion, dtype: float64\n"
     ]
    }
   ],
   "source": [
    "# Check target variable distribution (it's well-balanced)\n",
    "print(\"Target Distribution:\\n\", df['rule_violation'].value_counts(normalize=True))"
   ]
  },
  {
   "cell_type": "markdown",
   "id": "e4b5db4c",
   "metadata": {},
   "source": [
    "### 1.3 - Baseline Model Validation\n",
    "Here, we prove our simple TF-IDF + Logistic Regression approach works by testing it on a local validation set."
   ]
  },
  {
   "cell_type": "code",
   "execution_count": 6,
   "id": "0134bf70",
   "metadata": {},
   "outputs": [],
   "source": [
    "# Define features (X) and target (y)\n",
    "X = df['combined_text']\n",
    "y = df['rule_violation']\n",
    "\n",
    "# Create a training and a validation set\n",
    "X_train, X_val, y_train, y_val = train_test_split(\n",
    "    X, y,\n",
    "    test_size=0.2,       # Use 20% for validation\n",
    "    random_state=42,     # For reproducibility\n",
    "    stratify=y           # Keep target balance in both sets\n",
    ")"
   ]
  },
  {
   "cell_type": "code",
   "execution_count": 7,
   "id": "a6ff63c5",
   "metadata": {},
   "outputs": [],
   "source": [
    "# Initialize the vectorizer\n",
    "vectorizer = TfidfVectorizer()\n",
    "\n",
    "# Fit the vectorizer on the TRAINING DATA ONLY and transform it\n",
    "X_train_vec = vectorizer.fit_transform(X_train)\n",
    "\n",
    "# Use the already-fitted vectorizer to transform the validation data\n",
    "X_val_vec = vectorizer.transform(X_val)"
   ]
  },
  {
   "cell_type": "code",
   "execution_count": 8,
   "id": "d7223739",
   "metadata": {},
   "outputs": [
    {
     "name": "stdout",
     "output_type": "stream",
     "text": [
      "Validation AUC Score: 0.8293\n"
     ]
    }
   ],
   "source": [
    "# Initialize and train the validation model\n",
    "model = LogisticRegression(max_iter=1000)\n",
    "model.fit(X_train_vec, y_train)\n",
    "\n",
    "# Make predictions on the validation set\n",
    "val_preds = model.predict_proba(X_val_vec)[:, 1]\n",
    "\n",
    "# Evaluate the performance\n",
    "auc_score = roc_auc_score(y_val, val_preds)\n",
    "print(f\"Validation AUC Score: {auc_score:.4f}\")"
   ]
  },
  {
   "cell_type": "markdown",
   "id": "f574008c",
   "metadata": {},
   "source": [
    "# Part 2: Final Submission Pipeline\n",
    "--- \n",
    "**IMPORTANT:** This section creates the final `submission.csv` file. It trains a new model on ALL the training data. For a correct result, always run these cells sequentially after a kernel restart.\n",
    "\n",
    "**How to Run:**\n",
    "1. Click **\"Kernel\"** in the menu bar.\n",
    "2. Click **\"Restart & Run All\"**.\n",
    "3. Wait for all cells to finish executing.\n",
    "4. Your new `submission.csv` file will be ready."
   ]
  },
  {
   "cell_type": "code",
   "execution_count": 9,
   "id": "ac4b6ddc",
   "metadata": {},
   "outputs": [],
   "source": [
    "# Step 1: Define features (X) and target (y) using the FULL training dataset\n",
    "X_full = df['combined_text']\n",
    "y_full = df['rule_violation']\n",
    "\n",
    "# Also define our test data text\n",
    "X_test = test_df['combined_text']"
   ]
  },
  {
   "cell_type": "code",
   "execution_count": 10,
   "id": "2b7a0767",
   "metadata": {},
   "outputs": [],
   "source": [
    "# Step 2: Initialize a NEW vectorizer and model for the final submission\n",
    "final_vectorizer = TfidfVectorizer()\n",
    "final_model = LogisticRegression(max_iter=1000)"
   ]
  },
  {
   "cell_type": "code",
   "execution_count": 11,
   "id": "038f0eaf",
   "metadata": {},
   "outputs": [
    {
     "name": "stdout",
     "output_type": "stream",
     "text": [
      "Training final model on the full dataset...\n",
      "Training complete.\n"
     ]
    }
   ],
   "source": [
    "# Step 3: Fit the vectorizer and train the model on ALL the training data\n",
    "print(\"Training final model on the full dataset...\")\n",
    "\n",
    "# CORRECT: Use .fit_transform() on the full training data to learn the vocabulary\n",
    "X_full_vec = final_vectorizer.fit_transform(X_full)\n",
    "final_model.fit(X_full_vec, y_full)\n",
    "\n",
    "print(\"Training complete.\")"
   ]
  },
  {
   "cell_type": "code",
   "execution_count": 12,
   "id": "5e06f7d8",
   "metadata": {},
   "outputs": [],
   "source": [
    "# Step 4: Prepare the test data using the trained vectorizer\n",
    "\n",
    "# CORRECT: Use .transform() ONLY. This applies the vocabulary learned from the training data.\n",
    "# This was the source of the original bug.\n",
    "X_test_vec = final_vectorizer.transform(X_test)"
   ]
  },
  {
   "cell_type": "code",
   "execution_count": 13,
   "id": "4b86dd95",
   "metadata": {},
   "outputs": [],
   "source": [
    "# Step 5: Make predictions on the test data\n",
    "test_predictions = final_model.predict_proba(X_test_vec)[:, 1]"
   ]
  },
  {
   "cell_type": "code",
   "execution_count": 15,
   "id": "3bdcabd4",
   "metadata": {},
   "outputs": [
    {
     "name": "stdout",
     "output_type": "stream",
     "text": [
      "submission.csv created successfully!\n",
      "   row_id  rule_violation\n",
      "0    2029        0.282724\n",
      "1    2030        0.480705\n",
      "2    2031        0.626757\n",
      "3    2032        0.601275\n",
      "4    2033        0.711869\n"
     ]
    }
   ],
   "source": [
    "# Step 6: Create and save the submission file\n",
    "submission_df = pd.DataFrame({\n",
    "    'row_id': test_df['row_id'],\n",
    "    'rule_violation': test_predictions\n",
    "})\n",
    "\n",
    "submission_df.to_csv('submission.csv', index=False)\n",
    "\n",
    "print(\"submission.csv created successfully!\")\n",
    "print(submission_df.head())"
   ]
  }
 ],
 "metadata": {
  "kernelspec": {
   "display_name": ".venv",
   "language": "python",
   "name": "python3"
  },
  "language_info": {
   "codemirror_mode": {
    "name": "ipython",
    "version": 3
   },
   "file_extension": ".py",
   "mimetype": "text/x-python",
   "name": "python",
   "nbconvert_exporter": "python",
   "pygments_lexer": "ipython3",
   "version": "3.10.5"
  }
 },
 "nbformat": 4,
 "nbformat_minor": 5
}
