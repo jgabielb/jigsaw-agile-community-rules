{
 "cells": [
  {
   "cell_type": "markdown",
   "id": "9e7e3f1d",
   "metadata": {},
   "source": [
    "# --- FINAL SUBMISSION SCRIPT ---\n",
    "# This notebook is for generating the submission file ONLY.\n",
    "# Run this from a clean state using \"Kernel\" -> \"Restart & Run All\"."
   ]
  },
  {
   "cell_type": "code",
   "execution_count": 1,
   "id": "c2215e0d",
   "metadata": {},
   "outputs": [],
   "source": [
    "import pandas as pd\n",
    "from sklearn.feature_extraction.text import TfidfVectorizer\n",
    "from sklearn.linear_model import LogisticRegression"
   ]
  },
  {
   "cell_type": "code",
   "execution_count": 2,
   "id": "098fc744",
   "metadata": {},
   "outputs": [
    {
     "name": "stdout",
     "output_type": "stream",
     "text": [
      "--- Step 1: Loading Data ---\n"
     ]
    }
   ],
   "source": [
    "print(\"--- Step 1: Loading Data ---\")\n",
    "df = pd.read_csv(\"train.csv\")\n",
    "test_df = pd.read_csv(\"test.csv\")"
   ]
  },
  {
   "cell_type": "code",
   "execution_count": 3,
   "id": "35bea4bc",
   "metadata": {},
   "outputs": [
    {
     "name": "stdout",
     "output_type": "stream",
     "text": [
      "--- Step 2: Creating the 'combined_text' Feature ---\n"
     ]
    }
   ],
   "source": [
    "print(\"--- Step 2: Creating the 'combined_text' Feature ---\")\n",
    "df['combined_text'] = df['rule'] + \" [SEP] \" + df['body']\n",
    "test_df['combined_text'] = test_df['rule'] + \" [SEP] \" + test_df['body']"
   ]
  },
  {
   "cell_type": "code",
   "execution_count": 4,
   "id": "62f2205c",
   "metadata": {},
   "outputs": [],
   "source": [
    "# Define our final data\n",
    "X_full = df['combined_text']\n",
    "y_full = df['rule_violation']\n",
    "X_test = test_df['combined_text']"
   ]
  },
  {
   "cell_type": "code",
   "execution_count": 5,
   "id": "a06c717f",
   "metadata": {},
   "outputs": [
    {
     "name": "stdout",
     "output_type": "stream",
     "text": [
      "--- Step 3: Training the Final Model on ALL Training Data ---\n"
     ]
    }
   ],
   "source": [
    "print(\"--- Step 3: Training the Final Model on ALL Training Data ---\")\n",
    "# Initialize a new vectorizer and model\n",
    "final_vectorizer = TfidfVectorizer()\n",
    "final_model = LogisticRegression(max_iter=1000)"
   ]
  },
  {
   "cell_type": "code",
   "execution_count": 6,
   "id": "5652198d",
   "metadata": {},
   "outputs": [
    {
     "name": "stdout",
     "output_type": "stream",
     "text": [
      "Model training complete.\n"
     ]
    }
   ],
   "source": [
    "# Fit the vectorizer and train the model\n",
    "X_full_vec = final_vectorizer.fit_transform(X_full)\n",
    "final_model.fit(X_full_vec, y_full)\n",
    "print(\"Model training complete.\")"
   ]
  },
  {
   "cell_type": "code",
   "execution_count": 7,
   "id": "6bc466f5",
   "metadata": {},
   "outputs": [
    {
     "name": "stdout",
     "output_type": "stream",
     "text": [
      "--- Step 4: Making Predictions on the Test Set ---\n"
     ]
    }
   ],
   "source": [
    "print(\"--- Step 4: Making Predictions on the Test Set ---\")\n",
    "# CORRECTLY use .transform() only\n",
    "X_test_vec = final_vectorizer.transform(X_test)\n",
    "test_predictions = final_model.predict_proba(X_test_vec)[:, 1]"
   ]
  },
  {
   "cell_type": "code",
   "execution_count": 8,
   "id": "9abbfc3a",
   "metadata": {},
   "outputs": [
    {
     "name": "stdout",
     "output_type": "stream",
     "text": [
      "--- Step 5: Creating the submission.csv File ---\n"
     ]
    }
   ],
   "source": [
    "print(\"--- Step 5: Creating the submission.csv File ---\")\n",
    "submission_df = pd.DataFrame({\n",
    "    'row_id': test_df['row_id'],\n",
    "    'rule_violation': test_predictions\n",
    "})\n",
    "submission_df.to_csv('submission.csv', index=False)"
   ]
  },
  {
   "cell_type": "code",
   "execution_count": 9,
   "id": "10fed1b8",
   "metadata": {},
   "outputs": [
    {
     "name": "stdout",
     "output_type": "stream",
     "text": [
      "\n",
      "SUCCESS: New submission.csv has been generated.\n",
      "Here are the first 5 predictions:\n",
      "   row_id  rule_violation\n",
      "0    2029        0.282724\n",
      "1    2030        0.480705\n",
      "2    2031        0.626757\n",
      "3    2032        0.601275\n",
      "4    2033        0.711869\n"
     ]
    }
   ],
   "source": [
    "print(\"\\nSUCCESS: New submission.csv has been generated.\")\n",
    "print(\"Here are the first 5 predictions:\")\n",
    "print(submission_df.head())"
   ]
  }
 ],
 "metadata": {
  "kernelspec": {
   "display_name": ".venv",
   "language": "python",
   "name": "python3"
  },
  "language_info": {
   "codemirror_mode": {
    "name": "ipython",
    "version": 3
   },
   "file_extension": ".py",
   "mimetype": "text/x-python",
   "name": "python",
   "nbconvert_exporter": "python",
   "pygments_lexer": "ipython3",
   "version": "3.10.5"
  }
 },
 "nbformat": 4,
 "nbformat_minor": 5
}
