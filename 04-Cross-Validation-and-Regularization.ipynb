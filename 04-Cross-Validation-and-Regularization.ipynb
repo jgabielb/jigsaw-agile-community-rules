{
 "cells": [
  {
   "cell_type": "markdown",
   "id": "89567b15",
   "metadata": {},
   "source": [
    "# Run Phase: Tackling Overfitting with Cross-Validation and Regularization\n",
    "\n",
    "Our previous models performed well locally but failed to generalize to the hidden test set. This is a classic overfitting problem. This notebook introduces a more robust training and validation strategy to combat this.\n",
    "\n",
    "**Key Upgrades:**\n",
    "1.  **Cross-Validation (`StratifiedKFold`):** Instead of a single train/validation split, we will use 5-fold cross-validation. This gives us a much more reliable estimate of our model's true performance on unseen data.\n",
    "2.  **Regularization:** We will add parameters to both our `TfidfVectorizer` and `LGBMClassifier` to deliberately make them simpler, which forces them to learn more general patterns.\n",
    "3.  **Ensembling:** Our final submission will be an average of the predictions from the 5 models trained during cross-validation. This is a powerful technique to improve robustness."
   ]
  },
  {
   "cell_type": "markdown",
   "id": "cb79ccec",
   "metadata": {},
   "source": [
    "### 1. Setup and Data Loading"
   ]
  },
  {
   "cell_type": "code",
   "execution_count": 1,
   "id": "298e020e",
   "metadata": {},
   "outputs": [],
   "source": [
    "import pandas as pd\n",
    "import numpy as np\n",
    "import re\n",
    "import lightgbm as lgb\n",
    "from sklearn.model_selection import StratifiedKFold\n",
    "from sklearn.feature_extraction.text import TfidfVectorizer\n",
    "from sklearn.metrics import roc_auc_score"
   ]
  },
  {
   "cell_type": "code",
   "execution_count": 2,
   "id": "1c9f17d6",
   "metadata": {},
   "outputs": [],
   "source": [
    "# Load the datasets\n",
    "df = pd.read_csv(\"train.csv\")\n",
    "test_df = pd.read_csv(\"test.csv\")"
   ]
  },
  {
   "cell_type": "markdown",
   "id": "2390cae3",
   "metadata": {},
   "source": [
    "### 2. Text Cleaning and Feature Engineering"
   ]
  },
  {
   "cell_type": "code",
   "execution_count": 3,
   "id": "fcbb8dbe",
   "metadata": {},
   "outputs": [],
   "source": [
    "# Same cleaning function as before\n",
    "def clean_text(text):\n",
    "    text = str(text).lower()\n",
    "    text = re.sub(r'https?://\\S+|www\\.\\S+', '', text)\n",
    "    text = re.sub(r'[^a-z\\s]', '', text)\n",
    "    return text\n",
    "\n",
    "# Apply cleaning\n",
    "df['cleaned_text'] = (df['rule'] + \" [SEP] \" + df['body']).apply(clean_text)\n",
    "test_df['cleaned_text'] = (test_df['rule'] + \" [SEP] \" + test_df['body']).apply(clean_text)"
   ]
  },
  {
   "cell_type": "markdown",
   "id": "deb08d99",
   "metadata": {},
   "source": [
    "### 3. Cross-Validation and Model Training"
   ]
  },
  {
   "cell_type": "code",
   "execution_count": 4,
   "id": "2ea25572",
   "metadata": {},
   "outputs": [
    {
     "name": "stdout",
     "output_type": "stream",
     "text": [
      "===== FOLD 1 =====\n",
      "[LightGBM] [Info] Number of positive: 1010, number of negative: 978\n",
      "[LightGBM] [Info] Auto-choosing col-wise multi-threading, the overhead of testing was 0.001897 seconds.\n",
      "You can set `force_col_wise=true` to remove the overhead.\n",
      "[LightGBM] [Info] Total Bins 9637\n",
      "[LightGBM] [Info] Number of data points in the train set: 1988, number of used features: 241\n",
      "[LightGBM] [Info] [binary:BoostFromScore]: pavg=0.508048 -> initscore=0.032196\n",
      "[LightGBM] [Info] Start training from score 0.032196\n",
      "===== FOLD 2 =====\n"
     ]
    },
    {
     "name": "stderr",
     "output_type": "stream",
     "text": [
      "c:\\Users\\Admn\\work_area\\.venv\\lib\\site-packages\\sklearn\\utils\\validation.py:2749: UserWarning: X does not have valid feature names, but LGBMClassifier was fitted with feature names\n",
      "  warnings.warn(\n"
     ]
    },
    {
     "name": "stdout",
     "output_type": "stream",
     "text": [
      "[LightGBM] [Info] Number of positive: 1010, number of negative: 978\n",
      "[LightGBM] [Info] Auto-choosing col-wise multi-threading, the overhead of testing was 0.002190 seconds.\n",
      "You can set `force_col_wise=true` to remove the overhead.\n",
      "[LightGBM] [Info] Total Bins 9641\n",
      "[LightGBM] [Info] Number of data points in the train set: 1988, number of used features: 241\n",
      "[LightGBM] [Info] [binary:BoostFromScore]: pavg=0.508048 -> initscore=0.032196\n",
      "[LightGBM] [Info] Start training from score 0.032196\n",
      "===== FOLD 3 =====\n"
     ]
    },
    {
     "name": "stderr",
     "output_type": "stream",
     "text": [
      "c:\\Users\\Admn\\work_area\\.venv\\lib\\site-packages\\sklearn\\utils\\validation.py:2749: UserWarning: X does not have valid feature names, but LGBMClassifier was fitted with feature names\n",
      "  warnings.warn(\n"
     ]
    },
    {
     "name": "stdout",
     "output_type": "stream",
     "text": [
      "[LightGBM] [Info] Number of positive: 1010, number of negative: 978\n",
      "[LightGBM] [Info] Auto-choosing col-wise multi-threading, the overhead of testing was 0.001824 seconds.\n",
      "You can set `force_col_wise=true` to remove the overhead.\n",
      "[LightGBM] [Info] Total Bins 9650\n",
      "[LightGBM] [Info] Number of data points in the train set: 1988, number of used features: 241\n",
      "[LightGBM] [Info] [binary:BoostFromScore]: pavg=0.508048 -> initscore=0.032196\n",
      "[LightGBM] [Info] Start training from score 0.032196\n",
      "===== FOLD 4 =====\n"
     ]
    },
    {
     "name": "stderr",
     "output_type": "stream",
     "text": [
      "c:\\Users\\Admn\\work_area\\.venv\\lib\\site-packages\\sklearn\\utils\\validation.py:2749: UserWarning: X does not have valid feature names, but LGBMClassifier was fitted with feature names\n",
      "  warnings.warn(\n"
     ]
    },
    {
     "name": "stdout",
     "output_type": "stream",
     "text": [
      "[LightGBM] [Info] Number of positive: 1010, number of negative: 978\n",
      "[LightGBM] [Info] Auto-choosing col-wise multi-threading, the overhead of testing was 0.001961 seconds.\n",
      "You can set `force_col_wise=true` to remove the overhead.\n",
      "[LightGBM] [Info] Total Bins 9620\n",
      "[LightGBM] [Info] Number of data points in the train set: 1988, number of used features: 237\n",
      "[LightGBM] [Info] [binary:BoostFromScore]: pavg=0.508048 -> initscore=0.032196\n",
      "[LightGBM] [Info] Start training from score 0.032196\n",
      "===== FOLD 5 =====\n"
     ]
    },
    {
     "name": "stderr",
     "output_type": "stream",
     "text": [
      "c:\\Users\\Admn\\work_area\\.venv\\lib\\site-packages\\sklearn\\utils\\validation.py:2749: UserWarning: X does not have valid feature names, but LGBMClassifier was fitted with feature names\n",
      "  warnings.warn(\n"
     ]
    },
    {
     "name": "stdout",
     "output_type": "stream",
     "text": [
      "[LightGBM] [Info] Number of positive: 1010, number of negative: 978\n",
      "[LightGBM] [Info] Auto-choosing col-wise multi-threading, the overhead of testing was 0.002316 seconds.\n",
      "You can set `force_col_wise=true` to remove the overhead.\n",
      "[LightGBM] [Info] Total Bins 9658\n",
      "[LightGBM] [Info] Number of data points in the train set: 1988, number of used features: 244\n",
      "[LightGBM] [Info] [binary:BoostFromScore]: pavg=0.508048 -> initscore=0.032196\n",
      "[LightGBM] [Info] Start training from score 0.032196\n"
     ]
    },
    {
     "name": "stderr",
     "output_type": "stream",
     "text": [
      "c:\\Users\\Admn\\work_area\\.venv\\lib\\site-packages\\sklearn\\utils\\validation.py:2749: UserWarning: X does not have valid feature names, but LGBMClassifier was fitted with feature names\n",
      "  warnings.warn(\n"
     ]
    },
    {
     "name": "stdout",
     "output_type": "stream",
     "text": [
      "===== FOLD 6 =====\n",
      "[LightGBM] [Info] Number of positive: 1010, number of negative: 978\n",
      "[LightGBM] [Info] Auto-choosing col-wise multi-threading, the overhead of testing was 0.001733 seconds.\n",
      "You can set `force_col_wise=true` to remove the overhead.\n",
      "[LightGBM] [Info] Total Bins 9666\n",
      "[LightGBM] [Info] Number of data points in the train set: 1988, number of used features: 243\n",
      "[LightGBM] [Info] [binary:BoostFromScore]: pavg=0.508048 -> initscore=0.032196\n",
      "[LightGBM] [Info] Start training from score 0.032196\n"
     ]
    },
    {
     "name": "stderr",
     "output_type": "stream",
     "text": [
      "c:\\Users\\Admn\\work_area\\.venv\\lib\\site-packages\\sklearn\\utils\\validation.py:2749: UserWarning: X does not have valid feature names, but LGBMClassifier was fitted with feature names\n",
      "  warnings.warn(\n"
     ]
    },
    {
     "name": "stdout",
     "output_type": "stream",
     "text": [
      "===== FOLD 7 =====\n",
      "[LightGBM] [Info] Number of positive: 1010, number of negative: 978\n",
      "[LightGBM] [Info] Auto-choosing col-wise multi-threading, the overhead of testing was 0.001539 seconds.\n",
      "You can set `force_col_wise=true` to remove the overhead.\n",
      "[LightGBM] [Info] Total Bins 9660\n",
      "[LightGBM] [Info] Number of data points in the train set: 1988, number of used features: 242\n",
      "[LightGBM] [Info] [binary:BoostFromScore]: pavg=0.508048 -> initscore=0.032196\n",
      "[LightGBM] [Info] Start training from score 0.032196\n"
     ]
    },
    {
     "name": "stderr",
     "output_type": "stream",
     "text": [
      "c:\\Users\\Admn\\work_area\\.venv\\lib\\site-packages\\sklearn\\utils\\validation.py:2749: UserWarning: X does not have valid feature names, but LGBMClassifier was fitted with feature names\n",
      "  warnings.warn(\n",
      "c:\\Users\\Admn\\work_area\\.venv\\lib\\site-packages\\sklearn\\utils\\validation.py:2749: UserWarning: X does not have valid feature names, but LGBMClassifier was fitted with feature names\n",
      "  warnings.warn(\n"
     ]
    },
    {
     "name": "stdout",
     "output_type": "stream",
     "text": [
      "===== FOLD 8 =====\n",
      "[LightGBM] [Info] Number of positive: 1010, number of negative: 978\n",
      "[LightGBM] [Info] Auto-choosing col-wise multi-threading, the overhead of testing was 0.001582 seconds.\n",
      "You can set `force_col_wise=true` to remove the overhead.\n",
      "[LightGBM] [Info] Total Bins 9647\n",
      "[LightGBM] [Info] Number of data points in the train set: 1988, number of used features: 239\n",
      "[LightGBM] [Info] [binary:BoostFromScore]: pavg=0.508048 -> initscore=0.032196\n",
      "[LightGBM] [Info] Start training from score 0.032196\n",
      "===== FOLD 9 =====\n",
      "[LightGBM] [Info] Number of positive: 1010, number of negative: 978\n",
      "[LightGBM] [Info] Auto-choosing col-wise multi-threading, the overhead of testing was 0.001840 seconds.\n",
      "You can set `force_col_wise=true` to remove the overhead.\n",
      "[LightGBM] [Info] Total Bins 9628\n",
      "[LightGBM] [Info] Number of data points in the train set: 1988, number of used features: 239\n",
      "[LightGBM] [Info] [binary:BoostFromScore]: pavg=0.508048 -> initscore=0.032196\n",
      "[LightGBM] [Info] Start training from score 0.032196\n"
     ]
    },
    {
     "name": "stderr",
     "output_type": "stream",
     "text": [
      "c:\\Users\\Admn\\work_area\\.venv\\lib\\site-packages\\sklearn\\utils\\validation.py:2749: UserWarning: X does not have valid feature names, but LGBMClassifier was fitted with feature names\n",
      "  warnings.warn(\n"
     ]
    },
    {
     "name": "stdout",
     "output_type": "stream",
     "text": [
      "===== FOLD 10 =====\n",
      "[LightGBM] [Info] Number of positive: 1010, number of negative: 978\n",
      "[LightGBM] [Info] Auto-choosing col-wise multi-threading, the overhead of testing was 0.001709 seconds.\n",
      "You can set `force_col_wise=true` to remove the overhead.\n",
      "[LightGBM] [Info] Total Bins 9638\n",
      "[LightGBM] [Info] Number of data points in the train set: 1988, number of used features: 241\n",
      "[LightGBM] [Info] [binary:BoostFromScore]: pavg=0.508048 -> initscore=0.032196\n",
      "[LightGBM] [Info] Start training from score 0.032196\n"
     ]
    },
    {
     "name": "stderr",
     "output_type": "stream",
     "text": [
      "c:\\Users\\Admn\\work_area\\.venv\\lib\\site-packages\\sklearn\\utils\\validation.py:2749: UserWarning: X does not have valid feature names, but LGBMClassifier was fitted with feature names\n",
      "  warnings.warn(\n"
     ]
    },
    {
     "name": "stdout",
     "output_type": "stream",
     "text": [
      "===== FOLD 11 =====\n",
      "[LightGBM] [Info] Number of positive: 1010, number of negative: 978\n",
      "[LightGBM] [Info] Auto-choosing col-wise multi-threading, the overhead of testing was 0.001876 seconds.\n",
      "You can set `force_col_wise=true` to remove the overhead.\n",
      "[LightGBM] [Info] Total Bins 9670\n",
      "[LightGBM] [Info] Number of data points in the train set: 1988, number of used features: 243\n",
      "[LightGBM] [Info] [binary:BoostFromScore]: pavg=0.508048 -> initscore=0.032196\n",
      "[LightGBM] [Info] Start training from score 0.032196\n"
     ]
    },
    {
     "name": "stderr",
     "output_type": "stream",
     "text": [
      "c:\\Users\\Admn\\work_area\\.venv\\lib\\site-packages\\sklearn\\utils\\validation.py:2749: UserWarning: X does not have valid feature names, but LGBMClassifier was fitted with feature names\n",
      "  warnings.warn(\n"
     ]
    },
    {
     "name": "stdout",
     "output_type": "stream",
     "text": [
      "===== FOLD 12 =====\n",
      "[LightGBM] [Info] Number of positive: 1010, number of negative: 978\n",
      "[LightGBM] [Info] Auto-choosing col-wise multi-threading, the overhead of testing was 0.001660 seconds.\n",
      "You can set `force_col_wise=true` to remove the overhead.\n",
      "[LightGBM] [Info] Total Bins 9645\n",
      "[LightGBM] [Info] Number of data points in the train set: 1988, number of used features: 239\n",
      "[LightGBM] [Info] [binary:BoostFromScore]: pavg=0.508048 -> initscore=0.032196\n",
      "[LightGBM] [Info] Start training from score 0.032196\n"
     ]
    },
    {
     "name": "stderr",
     "output_type": "stream",
     "text": [
      "c:\\Users\\Admn\\work_area\\.venv\\lib\\site-packages\\sklearn\\utils\\validation.py:2749: UserWarning: X does not have valid feature names, but LGBMClassifier was fitted with feature names\n",
      "  warnings.warn(\n"
     ]
    },
    {
     "name": "stdout",
     "output_type": "stream",
     "text": [
      "===== FOLD 13 =====\n",
      "[LightGBM] [Info] Number of positive: 1010, number of negative: 978\n",
      "[LightGBM] [Info] Auto-choosing col-wise multi-threading, the overhead of testing was 0.001900 seconds.\n",
      "You can set `force_col_wise=true` to remove the overhead.\n",
      "[LightGBM] [Info] Total Bins 9645\n",
      "[LightGBM] [Info] Number of data points in the train set: 1988, number of used features: 241\n",
      "[LightGBM] [Info] [binary:BoostFromScore]: pavg=0.508048 -> initscore=0.032196\n",
      "[LightGBM] [Info] Start training from score 0.032196\n"
     ]
    },
    {
     "name": "stderr",
     "output_type": "stream",
     "text": [
      "c:\\Users\\Admn\\work_area\\.venv\\lib\\site-packages\\sklearn\\utils\\validation.py:2749: UserWarning: X does not have valid feature names, but LGBMClassifier was fitted with feature names\n",
      "  warnings.warn(\n",
      "c:\\Users\\Admn\\work_area\\.venv\\lib\\site-packages\\sklearn\\utils\\validation.py:2749: UserWarning: X does not have valid feature names, but LGBMClassifier was fitted with feature names\n",
      "  warnings.warn(\n"
     ]
    },
    {
     "name": "stdout",
     "output_type": "stream",
     "text": [
      "===== FOLD 14 =====\n",
      "[LightGBM] [Info] Number of positive: 1010, number of negative: 978\n",
      "[LightGBM] [Info] Auto-choosing col-wise multi-threading, the overhead of testing was 0.001777 seconds.\n",
      "You can set `force_col_wise=true` to remove the overhead.\n",
      "[LightGBM] [Info] Total Bins 9660\n",
      "[LightGBM] [Info] Number of data points in the train set: 1988, number of used features: 243\n",
      "[LightGBM] [Info] [binary:BoostFromScore]: pavg=0.508048 -> initscore=0.032196\n",
      "[LightGBM] [Info] Start training from score 0.032196\n",
      "===== FOLD 15 =====\n",
      "[LightGBM] [Info] Number of positive: 1010, number of negative: 978\n",
      "[LightGBM] [Info] Auto-choosing col-wise multi-threading, the overhead of testing was 0.001897 seconds.\n",
      "You can set `force_col_wise=true` to remove the overhead.\n",
      "[LightGBM] [Info] Total Bins 9656\n",
      "[LightGBM] [Info] Number of data points in the train set: 1988, number of used features: 243\n",
      "[LightGBM] [Info] [binary:BoostFromScore]: pavg=0.508048 -> initscore=0.032196\n",
      "[LightGBM] [Info] Start training from score 0.032196\n"
     ]
    },
    {
     "name": "stderr",
     "output_type": "stream",
     "text": [
      "c:\\Users\\Admn\\work_area\\.venv\\lib\\site-packages\\sklearn\\utils\\validation.py:2749: UserWarning: X does not have valid feature names, but LGBMClassifier was fitted with feature names\n",
      "  warnings.warn(\n"
     ]
    },
    {
     "name": "stdout",
     "output_type": "stream",
     "text": [
      "===== FOLD 16 =====\n",
      "[LightGBM] [Info] Number of positive: 1010, number of negative: 978\n",
      "[LightGBM] [Info] Auto-choosing col-wise multi-threading, the overhead of testing was 0.001571 seconds.\n",
      "You can set `force_col_wise=true` to remove the overhead.\n",
      "[LightGBM] [Info] Total Bins 9620\n",
      "[LightGBM] [Info] Number of data points in the train set: 1988, number of used features: 240\n",
      "[LightGBM] [Info] [binary:BoostFromScore]: pavg=0.508048 -> initscore=0.032196\n",
      "[LightGBM] [Info] Start training from score 0.032196\n"
     ]
    },
    {
     "name": "stderr",
     "output_type": "stream",
     "text": [
      "c:\\Users\\Admn\\work_area\\.venv\\lib\\site-packages\\sklearn\\utils\\validation.py:2749: UserWarning: X does not have valid feature names, but LGBMClassifier was fitted with feature names\n",
      "  warnings.warn(\n",
      "c:\\Users\\Admn\\work_area\\.venv\\lib\\site-packages\\sklearn\\utils\\validation.py:2749: UserWarning: X does not have valid feature names, but LGBMClassifier was fitted with feature names\n",
      "  warnings.warn(\n"
     ]
    },
    {
     "name": "stdout",
     "output_type": "stream",
     "text": [
      "===== FOLD 17 =====\n",
      "[LightGBM] [Info] Number of positive: 1010, number of negative: 978\n",
      "[LightGBM] [Info] Auto-choosing col-wise multi-threading, the overhead of testing was 0.001663 seconds.\n",
      "You can set `force_col_wise=true` to remove the overhead.\n",
      "[LightGBM] [Info] Total Bins 9646\n",
      "[LightGBM] [Info] Number of data points in the train set: 1988, number of used features: 242\n",
      "[LightGBM] [Info] [binary:BoostFromScore]: pavg=0.508048 -> initscore=0.032196\n",
      "[LightGBM] [Info] Start training from score 0.032196\n",
      "===== FOLD 18 =====\n",
      "[LightGBM] [Info] Number of positive: 1010, number of negative: 978\n",
      "[LightGBM] [Info] Auto-choosing col-wise multi-threading, the overhead of testing was 0.002834 seconds.\n",
      "You can set `force_col_wise=true` to remove the overhead.\n",
      "[LightGBM] [Info] Total Bins 9670\n",
      "[LightGBM] [Info] Number of data points in the train set: 1988, number of used features: 243\n",
      "[LightGBM] [Info] [binary:BoostFromScore]: pavg=0.508048 -> initscore=0.032196\n",
      "[LightGBM] [Info] Start training from score 0.032196\n",
      "===== FOLD 19 =====\n"
     ]
    },
    {
     "name": "stderr",
     "output_type": "stream",
     "text": [
      "c:\\Users\\Admn\\work_area\\.venv\\lib\\site-packages\\sklearn\\utils\\validation.py:2749: UserWarning: X does not have valid feature names, but LGBMClassifier was fitted with feature names\n",
      "  warnings.warn(\n"
     ]
    },
    {
     "name": "stdout",
     "output_type": "stream",
     "text": [
      "[LightGBM] [Info] Number of positive: 1010, number of negative: 978\n",
      "[LightGBM] [Info] Auto-choosing col-wise multi-threading, the overhead of testing was 0.003079 seconds.\n",
      "You can set `force_col_wise=true` to remove the overhead.\n",
      "[LightGBM] [Info] Total Bins 9639\n",
      "[LightGBM] [Info] Number of data points in the train set: 1988, number of used features: 242\n",
      "[LightGBM] [Info] [binary:BoostFromScore]: pavg=0.508048 -> initscore=0.032196\n",
      "[LightGBM] [Info] Start training from score 0.032196\n"
     ]
    },
    {
     "name": "stderr",
     "output_type": "stream",
     "text": [
      "c:\\Users\\Admn\\work_area\\.venv\\lib\\site-packages\\sklearn\\utils\\validation.py:2749: UserWarning: X does not have valid feature names, but LGBMClassifier was fitted with feature names\n",
      "  warnings.warn(\n"
     ]
    },
    {
     "name": "stdout",
     "output_type": "stream",
     "text": [
      "===== FOLD 20 =====\n",
      "[LightGBM] [Info] Number of positive: 1010, number of negative: 978\n",
      "[LightGBM] [Info] Auto-choosing col-wise multi-threading, the overhead of testing was 0.002334 seconds.\n",
      "You can set `force_col_wise=true` to remove the overhead.\n",
      "[LightGBM] [Info] Total Bins 9654\n",
      "[LightGBM] [Info] Number of data points in the train set: 1988, number of used features: 242\n",
      "[LightGBM] [Info] [binary:BoostFromScore]: pavg=0.508048 -> initscore=0.032196\n",
      "[LightGBM] [Info] Start training from score 0.032196\n"
     ]
    },
    {
     "name": "stderr",
     "output_type": "stream",
     "text": [
      "c:\\Users\\Admn\\work_area\\.venv\\lib\\site-packages\\sklearn\\utils\\validation.py:2749: UserWarning: X does not have valid feature names, but LGBMClassifier was fitted with feature names\n",
      "  warnings.warn(\n"
     ]
    },
    {
     "name": "stdout",
     "output_type": "stream",
     "text": [
      "===== FOLD 21 =====\n",
      "[LightGBM] [Info] Number of positive: 1010, number of negative: 978\n",
      "[LightGBM] [Info] Auto-choosing col-wise multi-threading, the overhead of testing was 0.001688 seconds.\n",
      "You can set `force_col_wise=true` to remove the overhead.\n",
      "[LightGBM] [Info] Total Bins 9665\n",
      "[LightGBM] [Info] Number of data points in the train set: 1988, number of used features: 243\n",
      "[LightGBM] [Info] [binary:BoostFromScore]: pavg=0.508048 -> initscore=0.032196\n",
      "[LightGBM] [Info] Start training from score 0.032196\n"
     ]
    },
    {
     "name": "stderr",
     "output_type": "stream",
     "text": [
      "c:\\Users\\Admn\\work_area\\.venv\\lib\\site-packages\\sklearn\\utils\\validation.py:2749: UserWarning: X does not have valid feature names, but LGBMClassifier was fitted with feature names\n",
      "  warnings.warn(\n"
     ]
    },
    {
     "name": "stdout",
     "output_type": "stream",
     "text": [
      "===== FOLD 22 =====\n",
      "[LightGBM] [Info] Number of positive: 1010, number of negative: 978\n",
      "[LightGBM] [Info] Auto-choosing col-wise multi-threading, the overhead of testing was 0.001845 seconds.\n",
      "You can set `force_col_wise=true` to remove the overhead.\n",
      "[LightGBM] [Info] Total Bins 9671\n",
      "[LightGBM] [Info] Number of data points in the train set: 1988, number of used features: 245\n",
      "[LightGBM] [Info] [binary:BoostFromScore]: pavg=0.508048 -> initscore=0.032196\n",
      "[LightGBM] [Info] Start training from score 0.032196\n"
     ]
    },
    {
     "name": "stderr",
     "output_type": "stream",
     "text": [
      "c:\\Users\\Admn\\work_area\\.venv\\lib\\site-packages\\sklearn\\utils\\validation.py:2749: UserWarning: X does not have valid feature names, but LGBMClassifier was fitted with feature names\n",
      "  warnings.warn(\n"
     ]
    },
    {
     "name": "stdout",
     "output_type": "stream",
     "text": [
      "===== FOLD 23 =====\n",
      "[LightGBM] [Info] Number of positive: 1010, number of negative: 978\n",
      "[LightGBM] [Info] Auto-choosing col-wise multi-threading, the overhead of testing was 0.001604 seconds.\n",
      "You can set `force_col_wise=true` to remove the overhead.\n",
      "[LightGBM] [Info] Total Bins 9655\n",
      "[LightGBM] [Info] Number of data points in the train set: 1988, number of used features: 242\n",
      "[LightGBM] [Info] [binary:BoostFromScore]: pavg=0.508048 -> initscore=0.032196\n",
      "[LightGBM] [Info] Start training from score 0.032196\n"
     ]
    },
    {
     "name": "stderr",
     "output_type": "stream",
     "text": [
      "c:\\Users\\Admn\\work_area\\.venv\\lib\\site-packages\\sklearn\\utils\\validation.py:2749: UserWarning: X does not have valid feature names, but LGBMClassifier was fitted with feature names\n",
      "  warnings.warn(\n"
     ]
    },
    {
     "name": "stdout",
     "output_type": "stream",
     "text": [
      "===== FOLD 24 =====\n",
      "[LightGBM] [Info] Number of positive: 1010, number of negative: 978\n",
      "[LightGBM] [Info] Auto-choosing col-wise multi-threading, the overhead of testing was 0.002023 seconds.\n",
      "You can set `force_col_wise=true` to remove the overhead.\n",
      "[LightGBM] [Info] Total Bins 9631\n",
      "[LightGBM] [Info] Number of data points in the train set: 1988, number of used features: 240\n",
      "[LightGBM] [Info] [binary:BoostFromScore]: pavg=0.508048 -> initscore=0.032196\n",
      "[LightGBM] [Info] Start training from score 0.032196\n"
     ]
    },
    {
     "name": "stderr",
     "output_type": "stream",
     "text": [
      "c:\\Users\\Admn\\work_area\\.venv\\lib\\site-packages\\sklearn\\utils\\validation.py:2749: UserWarning: X does not have valid feature names, but LGBMClassifier was fitted with feature names\n",
      "  warnings.warn(\n"
     ]
    },
    {
     "name": "stdout",
     "output_type": "stream",
     "text": [
      "===== FOLD 25 =====\n",
      "[LightGBM] [Info] Number of positive: 1010, number of negative: 978\n",
      "[LightGBM] [Info] Auto-choosing col-wise multi-threading, the overhead of testing was 0.001573 seconds.\n",
      "You can set `force_col_wise=true` to remove the overhead.\n",
      "[LightGBM] [Info] Total Bins 9664\n",
      "[LightGBM] [Info] Number of data points in the train set: 1988, number of used features: 242\n",
      "[LightGBM] [Info] [binary:BoostFromScore]: pavg=0.508048 -> initscore=0.032196\n",
      "[LightGBM] [Info] Start training from score 0.032196\n"
     ]
    },
    {
     "name": "stderr",
     "output_type": "stream",
     "text": [
      "c:\\Users\\Admn\\work_area\\.venv\\lib\\site-packages\\sklearn\\utils\\validation.py:2749: UserWarning: X does not have valid feature names, but LGBMClassifier was fitted with feature names\n",
      "  warnings.warn(\n"
     ]
    },
    {
     "name": "stdout",
     "output_type": "stream",
     "text": [
      "===== FOLD 26 =====\n",
      "[LightGBM] [Info] Number of positive: 1010, number of negative: 978\n",
      "[LightGBM] [Info] Auto-choosing col-wise multi-threading, the overhead of testing was 0.001632 seconds.\n",
      "You can set `force_col_wise=true` to remove the overhead.\n",
      "[LightGBM] [Info] Total Bins 9658\n",
      "[LightGBM] [Info] Number of data points in the train set: 1988, number of used features: 242\n",
      "[LightGBM] [Info] [binary:BoostFromScore]: pavg=0.508048 -> initscore=0.032196\n",
      "[LightGBM] [Info] Start training from score 0.032196\n"
     ]
    },
    {
     "name": "stderr",
     "output_type": "stream",
     "text": [
      "c:\\Users\\Admn\\work_area\\.venv\\lib\\site-packages\\sklearn\\utils\\validation.py:2749: UserWarning: X does not have valid feature names, but LGBMClassifier was fitted with feature names\n",
      "  warnings.warn(\n"
     ]
    },
    {
     "name": "stdout",
     "output_type": "stream",
     "text": [
      "===== FOLD 27 =====\n",
      "[LightGBM] [Info] Number of positive: 1010, number of negative: 978\n",
      "[LightGBM] [Info] Auto-choosing col-wise multi-threading, the overhead of testing was 0.002541 seconds.\n",
      "You can set `force_col_wise=true` to remove the overhead.\n",
      "[LightGBM] [Info] Total Bins 9645\n",
      "[LightGBM] [Info] Number of data points in the train set: 1988, number of used features: 241\n",
      "[LightGBM] [Info] [binary:BoostFromScore]: pavg=0.508048 -> initscore=0.032196\n",
      "[LightGBM] [Info] Start training from score 0.032196\n"
     ]
    },
    {
     "name": "stderr",
     "output_type": "stream",
     "text": [
      "c:\\Users\\Admn\\work_area\\.venv\\lib\\site-packages\\sklearn\\utils\\validation.py:2749: UserWarning: X does not have valid feature names, but LGBMClassifier was fitted with feature names\n",
      "  warnings.warn(\n"
     ]
    },
    {
     "name": "stdout",
     "output_type": "stream",
     "text": [
      "===== FOLD 28 =====\n",
      "[LightGBM] [Info] Number of positive: 1010, number of negative: 978\n",
      "[LightGBM] [Info] Auto-choosing col-wise multi-threading, the overhead of testing was 0.001902 seconds.\n",
      "You can set `force_col_wise=true` to remove the overhead.\n",
      "[LightGBM] [Info] Total Bins 9626\n",
      "[LightGBM] [Info] Number of data points in the train set: 1988, number of used features: 238\n",
      "[LightGBM] [Info] [binary:BoostFromScore]: pavg=0.508048 -> initscore=0.032196\n",
      "[LightGBM] [Info] Start training from score 0.032196\n"
     ]
    },
    {
     "name": "stderr",
     "output_type": "stream",
     "text": [
      "c:\\Users\\Admn\\work_area\\.venv\\lib\\site-packages\\sklearn\\utils\\validation.py:2749: UserWarning: X does not have valid feature names, but LGBMClassifier was fitted with feature names\n",
      "  warnings.warn(\n"
     ]
    },
    {
     "name": "stdout",
     "output_type": "stream",
     "text": [
      "===== FOLD 29 =====\n",
      "[LightGBM] [Info] Number of positive: 1010, number of negative: 978\n",
      "[LightGBM] [Info] Auto-choosing col-wise multi-threading, the overhead of testing was 0.001602 seconds.\n",
      "You can set `force_col_wise=true` to remove the overhead.\n",
      "[LightGBM] [Info] Total Bins 9644\n",
      "[LightGBM] [Info] Number of data points in the train set: 1988, number of used features: 241\n",
      "[LightGBM] [Info] [binary:BoostFromScore]: pavg=0.508048 -> initscore=0.032196\n",
      "[LightGBM] [Info] Start training from score 0.032196\n"
     ]
    },
    {
     "name": "stderr",
     "output_type": "stream",
     "text": [
      "c:\\Users\\Admn\\work_area\\.venv\\lib\\site-packages\\sklearn\\utils\\validation.py:2749: UserWarning: X does not have valid feature names, but LGBMClassifier was fitted with feature names\n",
      "  warnings.warn(\n"
     ]
    },
    {
     "name": "stdout",
     "output_type": "stream",
     "text": [
      "===== FOLD 30 =====\n",
      "[LightGBM] [Info] Number of positive: 1011, number of negative: 978\n",
      "[LightGBM] [Info] Auto-choosing col-wise multi-threading, the overhead of testing was 0.001836 seconds.\n",
      "You can set `force_col_wise=true` to remove the overhead.\n",
      "[LightGBM] [Info] Total Bins 9653\n",
      "[LightGBM] [Info] Number of data points in the train set: 1989, number of used features: 242\n",
      "[LightGBM] [Info] [binary:BoostFromScore]: pavg=0.508296 -> initscore=0.033186\n",
      "[LightGBM] [Info] Start training from score 0.033186\n"
     ]
    },
    {
     "name": "stderr",
     "output_type": "stream",
     "text": [
      "c:\\Users\\Admn\\work_area\\.venv\\lib\\site-packages\\sklearn\\utils\\validation.py:2749: UserWarning: X does not have valid feature names, but LGBMClassifier was fitted with feature names\n",
      "  warnings.warn(\n"
     ]
    },
    {
     "name": "stdout",
     "output_type": "stream",
     "text": [
      "===== FOLD 31 =====\n",
      "[LightGBM] [Info] Number of positive: 1011, number of negative: 978\n",
      "[LightGBM] [Info] Auto-choosing col-wise multi-threading, the overhead of testing was 0.001651 seconds.\n",
      "You can set `force_col_wise=true` to remove the overhead.\n",
      "[LightGBM] [Info] Total Bins 9616\n",
      "[LightGBM] [Info] Number of data points in the train set: 1989, number of used features: 238\n",
      "[LightGBM] [Info] [binary:BoostFromScore]: pavg=0.508296 -> initscore=0.033186\n",
      "[LightGBM] [Info] Start training from score 0.033186\n"
     ]
    },
    {
     "name": "stderr",
     "output_type": "stream",
     "text": [
      "c:\\Users\\Admn\\work_area\\.venv\\lib\\site-packages\\sklearn\\utils\\validation.py:2749: UserWarning: X does not have valid feature names, but LGBMClassifier was fitted with feature names\n",
      "  warnings.warn(\n"
     ]
    },
    {
     "name": "stdout",
     "output_type": "stream",
     "text": [
      "===== FOLD 32 =====\n",
      "[LightGBM] [Info] Number of positive: 1011, number of negative: 978\n",
      "[LightGBM] [Info] Auto-choosing col-wise multi-threading, the overhead of testing was 0.001637 seconds.\n",
      "You can set `force_col_wise=true` to remove the overhead.\n",
      "[LightGBM] [Info] Total Bins 9645\n",
      "[LightGBM] [Info] Number of data points in the train set: 1989, number of used features: 242\n",
      "[LightGBM] [Info] [binary:BoostFromScore]: pavg=0.508296 -> initscore=0.033186\n",
      "[LightGBM] [Info] Start training from score 0.033186\n"
     ]
    },
    {
     "name": "stderr",
     "output_type": "stream",
     "text": [
      "c:\\Users\\Admn\\work_area\\.venv\\lib\\site-packages\\sklearn\\utils\\validation.py:2749: UserWarning: X does not have valid feature names, but LGBMClassifier was fitted with feature names\n",
      "  warnings.warn(\n"
     ]
    },
    {
     "name": "stdout",
     "output_type": "stream",
     "text": [
      "===== FOLD 33 =====\n",
      "[LightGBM] [Info] Number of positive: 1011, number of negative: 978\n",
      "[LightGBM] [Info] Auto-choosing col-wise multi-threading, the overhead of testing was 0.002078 seconds.\n",
      "You can set `force_col_wise=true` to remove the overhead.\n",
      "[LightGBM] [Info] Total Bins 9649\n",
      "[LightGBM] [Info] Number of data points in the train set: 1989, number of used features: 241\n",
      "[LightGBM] [Info] [binary:BoostFromScore]: pavg=0.508296 -> initscore=0.033186\n",
      "[LightGBM] [Info] Start training from score 0.033186\n"
     ]
    },
    {
     "name": "stderr",
     "output_type": "stream",
     "text": [
      "c:\\Users\\Admn\\work_area\\.venv\\lib\\site-packages\\sklearn\\utils\\validation.py:2749: UserWarning: X does not have valid feature names, but LGBMClassifier was fitted with feature names\n",
      "  warnings.warn(\n"
     ]
    },
    {
     "name": "stdout",
     "output_type": "stream",
     "text": [
      "===== FOLD 34 =====\n",
      "[LightGBM] [Info] Number of positive: 1011, number of negative: 978\n",
      "[LightGBM] [Info] Auto-choosing col-wise multi-threading, the overhead of testing was 0.001753 seconds.\n",
      "You can set `force_col_wise=true` to remove the overhead.\n",
      "[LightGBM] [Info] Total Bins 9666\n",
      "[LightGBM] [Info] Number of data points in the train set: 1989, number of used features: 243\n",
      "[LightGBM] [Info] [binary:BoostFromScore]: pavg=0.508296 -> initscore=0.033186\n",
      "[LightGBM] [Info] Start training from score 0.033186\n"
     ]
    },
    {
     "name": "stderr",
     "output_type": "stream",
     "text": [
      "c:\\Users\\Admn\\work_area\\.venv\\lib\\site-packages\\sklearn\\utils\\validation.py:2749: UserWarning: X does not have valid feature names, but LGBMClassifier was fitted with feature names\n",
      "  warnings.warn(\n"
     ]
    },
    {
     "name": "stdout",
     "output_type": "stream",
     "text": [
      "===== FOLD 35 =====\n",
      "[LightGBM] [Info] Number of positive: 1011, number of negative: 978\n",
      "[LightGBM] [Info] Auto-choosing col-wise multi-threading, the overhead of testing was 0.001881 seconds.\n",
      "You can set `force_col_wise=true` to remove the overhead.\n",
      "[LightGBM] [Info] Total Bins 9688\n",
      "[LightGBM] [Info] Number of data points in the train set: 1989, number of used features: 245\n",
      "[LightGBM] [Info] [binary:BoostFromScore]: pavg=0.508296 -> initscore=0.033186\n",
      "[LightGBM] [Info] Start training from score 0.033186\n"
     ]
    },
    {
     "name": "stderr",
     "output_type": "stream",
     "text": [
      "c:\\Users\\Admn\\work_area\\.venv\\lib\\site-packages\\sklearn\\utils\\validation.py:2749: UserWarning: X does not have valid feature names, but LGBMClassifier was fitted with feature names\n",
      "  warnings.warn(\n"
     ]
    },
    {
     "name": "stdout",
     "output_type": "stream",
     "text": [
      "===== FOLD 36 =====\n",
      "[LightGBM] [Info] Number of positive: 1011, number of negative: 978\n",
      "[LightGBM] [Info] Auto-choosing col-wise multi-threading, the overhead of testing was 0.001644 seconds.\n",
      "You can set `force_col_wise=true` to remove the overhead.\n",
      "[LightGBM] [Info] Total Bins 9673\n",
      "[LightGBM] [Info] Number of data points in the train set: 1989, number of used features: 245\n",
      "[LightGBM] [Info] [binary:BoostFromScore]: pavg=0.508296 -> initscore=0.033186\n",
      "[LightGBM] [Info] Start training from score 0.033186\n"
     ]
    },
    {
     "name": "stderr",
     "output_type": "stream",
     "text": [
      "c:\\Users\\Admn\\work_area\\.venv\\lib\\site-packages\\sklearn\\utils\\validation.py:2749: UserWarning: X does not have valid feature names, but LGBMClassifier was fitted with feature names\n",
      "  warnings.warn(\n"
     ]
    },
    {
     "name": "stdout",
     "output_type": "stream",
     "text": [
      "===== FOLD 37 =====\n",
      "[LightGBM] [Info] Number of positive: 1011, number of negative: 978\n",
      "[LightGBM] [Info] Auto-choosing col-wise multi-threading, the overhead of testing was 0.001630 seconds.\n",
      "You can set `force_col_wise=true` to remove the overhead.\n",
      "[LightGBM] [Info] Total Bins 9655\n",
      "[LightGBM] [Info] Number of data points in the train set: 1989, number of used features: 243\n",
      "[LightGBM] [Info] [binary:BoostFromScore]: pavg=0.508296 -> initscore=0.033186\n",
      "[LightGBM] [Info] Start training from score 0.033186\n"
     ]
    },
    {
     "name": "stderr",
     "output_type": "stream",
     "text": [
      "c:\\Users\\Admn\\work_area\\.venv\\lib\\site-packages\\sklearn\\utils\\validation.py:2749: UserWarning: X does not have valid feature names, but LGBMClassifier was fitted with feature names\n",
      "  warnings.warn(\n"
     ]
    },
    {
     "name": "stdout",
     "output_type": "stream",
     "text": [
      "===== FOLD 38 =====\n",
      "[LightGBM] [Info] Number of positive: 1011, number of negative: 978\n",
      "[LightGBM] [Info] Auto-choosing col-wise multi-threading, the overhead of testing was 0.002949 seconds.\n",
      "You can set `force_col_wise=true` to remove the overhead.\n",
      "[LightGBM] [Info] Total Bins 9641\n",
      "[LightGBM] [Info] Number of data points in the train set: 1989, number of used features: 242\n",
      "[LightGBM] [Info] [binary:BoostFromScore]: pavg=0.508296 -> initscore=0.033186\n",
      "[LightGBM] [Info] Start training from score 0.033186\n"
     ]
    },
    {
     "name": "stderr",
     "output_type": "stream",
     "text": [
      "c:\\Users\\Admn\\work_area\\.venv\\lib\\site-packages\\sklearn\\utils\\validation.py:2749: UserWarning: X does not have valid feature names, but LGBMClassifier was fitted with feature names\n",
      "  warnings.warn(\n"
     ]
    },
    {
     "name": "stdout",
     "output_type": "stream",
     "text": [
      "===== FOLD 39 =====\n",
      "[LightGBM] [Info] Number of positive: 1011, number of negative: 978\n",
      "[LightGBM] [Info] Auto-choosing col-wise multi-threading, the overhead of testing was 0.002022 seconds.\n",
      "You can set `force_col_wise=true` to remove the overhead.\n",
      "[LightGBM] [Info] Total Bins 9655\n",
      "[LightGBM] [Info] Number of data points in the train set: 1989, number of used features: 242\n",
      "[LightGBM] [Info] [binary:BoostFromScore]: pavg=0.508296 -> initscore=0.033186\n",
      "[LightGBM] [Info] Start training from score 0.033186\n"
     ]
    },
    {
     "name": "stderr",
     "output_type": "stream",
     "text": [
      "c:\\Users\\Admn\\work_area\\.venv\\lib\\site-packages\\sklearn\\utils\\validation.py:2749: UserWarning: X does not have valid feature names, but LGBMClassifier was fitted with feature names\n",
      "  warnings.warn(\n"
     ]
    },
    {
     "name": "stdout",
     "output_type": "stream",
     "text": [
      "===== FOLD 40 =====\n",
      "[LightGBM] [Info] Number of positive: 1011, number of negative: 978\n",
      "[LightGBM] [Info] Auto-choosing col-wise multi-threading, the overhead of testing was 0.001890 seconds.\n",
      "You can set `force_col_wise=true` to remove the overhead.\n",
      "[LightGBM] [Info] Total Bins 9658\n",
      "[LightGBM] [Info] Number of data points in the train set: 1989, number of used features: 241\n",
      "[LightGBM] [Info] [binary:BoostFromScore]: pavg=0.508296 -> initscore=0.033186\n",
      "[LightGBM] [Info] Start training from score 0.033186\n"
     ]
    },
    {
     "name": "stderr",
     "output_type": "stream",
     "text": [
      "c:\\Users\\Admn\\work_area\\.venv\\lib\\site-packages\\sklearn\\utils\\validation.py:2749: UserWarning: X does not have valid feature names, but LGBMClassifier was fitted with feature names\n",
      "  warnings.warn(\n"
     ]
    },
    {
     "name": "stdout",
     "output_type": "stream",
     "text": [
      "===== FOLD 41 =====\n",
      "[LightGBM] [Info] Number of positive: 1011, number of negative: 978\n",
      "[LightGBM] [Info] Auto-choosing col-wise multi-threading, the overhead of testing was 0.001777 seconds.\n",
      "You can set `force_col_wise=true` to remove the overhead.\n",
      "[LightGBM] [Info] Total Bins 9655\n",
      "[LightGBM] [Info] Number of data points in the train set: 1989, number of used features: 241\n",
      "[LightGBM] [Info] [binary:BoostFromScore]: pavg=0.508296 -> initscore=0.033186\n",
      "[LightGBM] [Info] Start training from score 0.033186\n"
     ]
    },
    {
     "name": "stderr",
     "output_type": "stream",
     "text": [
      "c:\\Users\\Admn\\work_area\\.venv\\lib\\site-packages\\sklearn\\utils\\validation.py:2749: UserWarning: X does not have valid feature names, but LGBMClassifier was fitted with feature names\n",
      "  warnings.warn(\n"
     ]
    },
    {
     "name": "stdout",
     "output_type": "stream",
     "text": [
      "===== FOLD 42 =====\n",
      "[LightGBM] [Info] Number of positive: 1011, number of negative: 978\n",
      "[LightGBM] [Info] Auto-choosing col-wise multi-threading, the overhead of testing was 0.001523 seconds.\n",
      "You can set `force_col_wise=true` to remove the overhead.\n",
      "[LightGBM] [Info] Total Bins 9633\n",
      "[LightGBM] [Info] Number of data points in the train set: 1989, number of used features: 239\n",
      "[LightGBM] [Info] [binary:BoostFromScore]: pavg=0.508296 -> initscore=0.033186\n",
      "[LightGBM] [Info] Start training from score 0.033186\n"
     ]
    },
    {
     "name": "stderr",
     "output_type": "stream",
     "text": [
      "c:\\Users\\Admn\\work_area\\.venv\\lib\\site-packages\\sklearn\\utils\\validation.py:2749: UserWarning: X does not have valid feature names, but LGBMClassifier was fitted with feature names\n",
      "  warnings.warn(\n"
     ]
    },
    {
     "name": "stdout",
     "output_type": "stream",
     "text": [
      "===== FOLD 43 =====\n",
      "[LightGBM] [Info] Number of positive: 1011, number of negative: 978\n",
      "[LightGBM] [Info] Auto-choosing col-wise multi-threading, the overhead of testing was 0.001811 seconds.\n",
      "You can set `force_col_wise=true` to remove the overhead.\n",
      "[LightGBM] [Info] Total Bins 9658\n",
      "[LightGBM] [Info] Number of data points in the train set: 1989, number of used features: 242\n",
      "[LightGBM] [Info] [binary:BoostFromScore]: pavg=0.508296 -> initscore=0.033186\n",
      "[LightGBM] [Info] Start training from score 0.033186\n"
     ]
    },
    {
     "name": "stderr",
     "output_type": "stream",
     "text": [
      "c:\\Users\\Admn\\work_area\\.venv\\lib\\site-packages\\sklearn\\utils\\validation.py:2749: UserWarning: X does not have valid feature names, but LGBMClassifier was fitted with feature names\n",
      "  warnings.warn(\n"
     ]
    },
    {
     "name": "stdout",
     "output_type": "stream",
     "text": [
      "===== FOLD 44 =====\n",
      "[LightGBM] [Info] Number of positive: 1011, number of negative: 978\n",
      "[LightGBM] [Info] Auto-choosing col-wise multi-threading, the overhead of testing was 0.002107 seconds.\n",
      "You can set `force_col_wise=true` to remove the overhead.\n",
      "[LightGBM] [Info] Total Bins 9642\n",
      "[LightGBM] [Info] Number of data points in the train set: 1989, number of used features: 239\n",
      "[LightGBM] [Info] [binary:BoostFromScore]: pavg=0.508296 -> initscore=0.033186\n",
      "[LightGBM] [Info] Start training from score 0.033186\n"
     ]
    },
    {
     "name": "stderr",
     "output_type": "stream",
     "text": [
      "c:\\Users\\Admn\\work_area\\.venv\\lib\\site-packages\\sklearn\\utils\\validation.py:2749: UserWarning: X does not have valid feature names, but LGBMClassifier was fitted with feature names\n",
      "  warnings.warn(\n"
     ]
    },
    {
     "name": "stdout",
     "output_type": "stream",
     "text": [
      "===== FOLD 45 =====\n",
      "[LightGBM] [Info] Number of positive: 1011, number of negative: 978\n",
      "[LightGBM] [Info] Auto-choosing col-wise multi-threading, the overhead of testing was 0.001605 seconds.\n",
      "You can set `force_col_wise=true` to remove the overhead.\n",
      "[LightGBM] [Info] Total Bins 9653\n",
      "[LightGBM] [Info] Number of data points in the train set: 1989, number of used features: 243\n",
      "[LightGBM] [Info] [binary:BoostFromScore]: pavg=0.508296 -> initscore=0.033186\n",
      "[LightGBM] [Info] Start training from score 0.033186\n"
     ]
    },
    {
     "name": "stderr",
     "output_type": "stream",
     "text": [
      "c:\\Users\\Admn\\work_area\\.venv\\lib\\site-packages\\sklearn\\utils\\validation.py:2749: UserWarning: X does not have valid feature names, but LGBMClassifier was fitted with feature names\n",
      "  warnings.warn(\n",
      "c:\\Users\\Admn\\work_area\\.venv\\lib\\site-packages\\sklearn\\utils\\validation.py:2749: UserWarning: X does not have valid feature names, but LGBMClassifier was fitted with feature names\n",
      "  warnings.warn(\n"
     ]
    },
    {
     "name": "stdout",
     "output_type": "stream",
     "text": [
      "===== FOLD 46 =====\n",
      "[LightGBM] [Info] Number of positive: 1011, number of negative: 978\n",
      "[LightGBM] [Info] Auto-choosing col-wise multi-threading, the overhead of testing was 0.002541 seconds.\n",
      "You can set `force_col_wise=true` to remove the overhead.\n",
      "[LightGBM] [Info] Total Bins 9615\n",
      "[LightGBM] [Info] Number of data points in the train set: 1989, number of used features: 239\n",
      "[LightGBM] [Info] [binary:BoostFromScore]: pavg=0.508296 -> initscore=0.033186\n",
      "[LightGBM] [Info] Start training from score 0.033186\n",
      "===== FOLD 47 =====\n",
      "[LightGBM] [Info] Number of positive: 1011, number of negative: 978\n",
      "[LightGBM] [Info] Auto-choosing col-wise multi-threading, the overhead of testing was 0.002498 seconds.\n",
      "You can set `force_col_wise=true` to remove the overhead.\n",
      "[LightGBM] [Info] Total Bins 9657\n",
      "[LightGBM] [Info] Number of data points in the train set: 1989, number of used features: 242\n",
      "[LightGBM] [Info] [binary:BoostFromScore]: pavg=0.508296 -> initscore=0.033186\n",
      "[LightGBM] [Info] Start training from score 0.033186\n"
     ]
    },
    {
     "name": "stderr",
     "output_type": "stream",
     "text": [
      "c:\\Users\\Admn\\work_area\\.venv\\lib\\site-packages\\sklearn\\utils\\validation.py:2749: UserWarning: X does not have valid feature names, but LGBMClassifier was fitted with feature names\n",
      "  warnings.warn(\n"
     ]
    },
    {
     "name": "stdout",
     "output_type": "stream",
     "text": [
      "===== FOLD 48 =====\n",
      "[LightGBM] [Info] Number of positive: 1011, number of negative: 978\n",
      "[LightGBM] [Info] Auto-choosing col-wise multi-threading, the overhead of testing was 0.001664 seconds.\n",
      "You can set `force_col_wise=true` to remove the overhead.\n",
      "[LightGBM] [Info] Total Bins 9648\n",
      "[LightGBM] [Info] Number of data points in the train set: 1989, number of used features: 240\n",
      "[LightGBM] [Info] [binary:BoostFromScore]: pavg=0.508296 -> initscore=0.033186\n",
      "[LightGBM] [Info] Start training from score 0.033186\n"
     ]
    },
    {
     "name": "stderr",
     "output_type": "stream",
     "text": [
      "c:\\Users\\Admn\\work_area\\.venv\\lib\\site-packages\\sklearn\\utils\\validation.py:2749: UserWarning: X does not have valid feature names, but LGBMClassifier was fitted with feature names\n",
      "  warnings.warn(\n",
      "c:\\Users\\Admn\\work_area\\.venv\\lib\\site-packages\\sklearn\\utils\\validation.py:2749: UserWarning: X does not have valid feature names, but LGBMClassifier was fitted with feature names\n",
      "  warnings.warn(\n"
     ]
    },
    {
     "name": "stdout",
     "output_type": "stream",
     "text": [
      "===== FOLD 49 =====\n",
      "[LightGBM] [Info] Number of positive: 1010, number of negative: 979\n",
      "[LightGBM] [Info] Auto-choosing col-wise multi-threading, the overhead of testing was 0.001537 seconds.\n",
      "You can set `force_col_wise=true` to remove the overhead.\n",
      "[LightGBM] [Info] Total Bins 9668\n",
      "[LightGBM] [Info] Number of data points in the train set: 1989, number of used features: 245\n",
      "[LightGBM] [Info] [binary:BoostFromScore]: pavg=0.507793 -> initscore=0.031174\n",
      "[LightGBM] [Info] Start training from score 0.031174\n",
      "===== FOLD 50 =====\n",
      "[LightGBM] [Info] Number of positive: 1010, number of negative: 979\n",
      "[LightGBM] [Info] Auto-choosing col-wise multi-threading, the overhead of testing was 0.001644 seconds.\n",
      "You can set `force_col_wise=true` to remove the overhead.\n",
      "[LightGBM] [Info] Total Bins 9665\n",
      "[LightGBM] [Info] Number of data points in the train set: 1989, number of used features: 243\n",
      "[LightGBM] [Info] [binary:BoostFromScore]: pavg=0.507793 -> initscore=0.031174\n",
      "[LightGBM] [Info] Start training from score 0.031174\n",
      "\n",
      "Overall CV AUC Score: 0.7897\n"
     ]
    },
    {
     "name": "stderr",
     "output_type": "stream",
     "text": [
      "c:\\Users\\Admn\\work_area\\.venv\\lib\\site-packages\\sklearn\\utils\\validation.py:2749: UserWarning: X does not have valid feature names, but LGBMClassifier was fitted with feature names\n",
      "  warnings.warn(\n"
     ]
    }
   ],
   "source": [
    "# Define features (X) and target (y)\n",
    "X = df['cleaned_text']\n",
    "y = df['rule_violation']\n",
    "X_test = test_df['cleaned_text']\n",
    "\n",
    "# --- Cross-Validation Setup ---\n",
    "NFOLDS = 50\n",
    "skf = StratifiedKFold(n_splits=NFOLDS, shuffle=True, random_state=42)\n",
    "\n",
    "# --- Model Training Loop ---\n",
    "oof_preds = np.zeros((len(df),))\n",
    "test_preds = np.zeros((len(test_df),))\n",
    "\n",
    "for fold, (train_idx, val_idx) in enumerate(skf.split(X, y)):\n",
    "    print(f\"===== FOLD {fold+1} =====\")\n",
    "    \n",
    "    # Split data for this fold\n",
    "    X_train, y_train = X.iloc[train_idx], y.iloc[train_idx]\n",
    "    X_val, y_val = X.iloc[val_idx], y.iloc[val_idx]\n",
    "    \n",
    "    # --- Vectorizer with Regularization ---\n",
    "    vectorizer = TfidfVectorizer(\n",
    "        ngram_range=(1, 2),\n",
    "        max_features=8000,  # Reduced features to regularize\n",
    "        stop_words='english'\n",
    "    )\n",
    "    \n",
    "    X_train_vec = vectorizer.fit_transform(X_train)\n",
    "    X_val_vec = vectorizer.transform(X_val)\n",
    "    X_test_vec = vectorizer.transform(X_test)\n",
    "    \n",
    "    # --- LightGBM with Regularization ---\n",
    "    lgbm = lgb.LGBMClassifier(\n",
    "        objective='binary',\n",
    "        random_state=42,\n",
    "        n_estimators=500,       # More trees\n",
    "        learning_rate=0.05,\n",
    "        num_leaves=20,          # Reduced complexity\n",
    "        reg_alpha=0.1,          # L1 Regularization\n",
    "        reg_lambda=0.1          # L2 Regularization\n",
    "    )\n",
    "    \n",
    "    lgbm.fit(X_train_vec, y_train,\n",
    "             eval_set=[(X_val_vec, y_val)],\n",
    "             eval_metric='auc',\n",
    "             callbacks=[lgb.early_stopping(100, verbose=False)])\n",
    "    \n",
    "    # --- Make Predictions ---\n",
    "    val_fold_preds = lgbm.predict_proba(X_val_vec)[:, 1]\n",
    "    test_fold_preds = lgbm.predict_proba(X_test_vec)[:, 1]\n",
    "    \n",
    "    # Store predictions\n",
    "    oof_preds[val_idx] = val_fold_preds\n",
    "    test_preds += test_fold_preds / NFOLDS # Average test predictions across folds\n",
    "\n",
    "# Calculate the overall Out-of-Fold (OOF) CV score\n",
    "overall_cv_score = roc_auc_score(y, oof_preds)\n",
    "print(f\"\\nOverall CV AUC Score: {overall_cv_score:.4f}\")"
   ]
  },
  {
   "cell_type": "markdown",
   "id": "47af7724",
   "metadata": {},
   "source": [
    "### 4. Create Final Submission"
   ]
  },
  {
   "cell_type": "code",
   "execution_count": 5,
   "id": "f9563064",
   "metadata": {},
   "outputs": [
    {
     "name": "stdout",
     "output_type": "stream",
     "text": [
      "SUCCESS: New submission_cv_lgbm.csv has been generated.\n",
      "   row_id  rule_violation\n",
      "0    2029        0.427059\n",
      "1    2030        0.616545\n",
      "2    2031        0.639463\n",
      "3    2032        0.439648\n",
      "4    2033        0.669288\n"
     ]
    }
   ],
   "source": [
    "# Create submission file from the averaged test predictions\n",
    "submission_df = pd.DataFrame({\n",
    "    'row_id': test_df['row_id'],\n",
    "    'rule_violation': test_preds\n",
    "})\n",
    "submission_df.to_csv('submission_cv_lgbm.csv', index=False)\n",
    "\n",
    "print(\"SUCCESS: New submission_cv_lgbm.csv has been generated.\")\n",
    "print(submission_df.head())"
   ]
  }
 ],
 "metadata": {
  "kernelspec": {
   "display_name": ".venv",
   "language": "python",
   "name": "python3"
  },
  "language_info": {
   "codemirror_mode": {
    "name": "ipython",
    "version": 3
   },
   "file_extension": ".py",
   "mimetype": "text/x-python",
   "name": "python",
   "nbconvert_exporter": "python",
   "pygments_lexer": "ipython3",
   "version": "3.10.5"
  }
 },
 "nbformat": 4,
 "nbformat_minor": 5
}
